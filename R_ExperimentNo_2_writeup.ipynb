{
  "nbformat": 4,
  "nbformat_minor": 0,
  "metadata": {
    "colab": {
      "name": "R_ExperimentNo2_writeup.ipynb",
      "provenance": [],
      "collapsed_sections": [],
      "include_colab_link": true
    },
    "kernelspec": {
      "name": "ir",
      "display_name": "R"
    }
  },
  "cells": [
    {
      "cell_type": "markdown",
      "metadata": {
        "id": "view-in-github",
        "colab_type": "text"
      },
      "source": [
        "<a href=\"https://colab.research.google.com/github/subodh2604/R-lab-/blob/main/R_ExperimentNo_2_writeup.ipynb\" target=\"_parent\"><img src=\"https://colab.research.google.com/assets/colab-badge.svg\" alt=\"Open In Colab\"/></a>"
      ]
    },
    {
      "cell_type": "markdown",
      "metadata": {
        "id": "ID8ytqkhyQUI"
      },
      "source": [
        "\n",
        "**Vectors R Programming**\n",
        "\n",
        "The simplest and most common data structure in R is the vector. Vectors come in two different flavors: atomic vectors and lists. An atomic vector contains exactly one data type, whereas a list may contain multiple data types.\n",
        "\n",
        "Atomic vectors include logical, character, integer, and complex. Logical vectors can contain the values TRUE, FALSE, and NA (for 'not available').These values are generated as the result of logical 'conditions'.\n",
        "\n",
        "Complet following couple of code cell to genearate a logical vector in variable logic_vect\n"
      ]
    },
    {
      "cell_type": "code",
      "metadata": {
        "id": "vmxkWCwVaTsu",
        "colab": {
          "base_uri": "https://localhost:8080/",
          "height": 34
        },
        "outputId": "7774e303-e2bc-42f8-bc08-a163c8307e66"
      },
      "source": [
        "# Create a vector num_vect with values -100, 0.55, 45, 5466\n",
        "num_vect<-c(-100,0.55,45,5466)\n",
        "num_vect"
      ],
      "execution_count": null,
      "outputs": [
        {
          "output_type": "display_data",
          "data": {
            "text/plain": [
              "[1] -100.00    0.55   45.00 5466.00"
            ],
            "text/latex": "\\begin{enumerate*}\n\\item -100\n\\item 0.55\n\\item 45\n\\item 5466\n\\end{enumerate*}\n",
            "text/markdown": "1. -100\n2. 0.55\n3. 45\n4. 5466\n\n\n",
            "text/html": [
              "<style>\n",
              ".list-inline {list-style: none; margin:0; padding: 0}\n",
              ".list-inline>li {display: inline-block}\n",
              ".list-inline>li:not(:last-child)::after {content: \"\\00b7\"; padding: 0 .5ex}\n",
              "</style>\n",
              "<ol class=list-inline><li>-100</li><li>0.55</li><li>45</li><li>5466</li></ol>\n"
            ]
          },
          "metadata": {
            "tags": []
          }
        }
      ]
    },
    {
      "cell_type": "code",
      "metadata": {
        "id": "eB193NZhaTxX"
      },
      "source": [
        "#Now, create a variable called logic_vect that gets the result of num_vect <= 0.55, which is read as 'num_vect is less than 0.55'.\n"
      ],
      "execution_count": null,
      "outputs": []
    },
    {
      "cell_type": "markdown",
      "metadata": {
        "id": "Wjk_ipkRbIEQ"
      },
      "source": [
        "If you print logic_vect. you will see that is is a logical vector with 4 values. Print logic_vect in cell below to verify it "
      ]
    },
    {
      "cell_type": "code",
      "metadata": {
        "id": "daPof3CfbYJl"
      },
      "source": [
        "#print logic_vect"
      ],
      "execution_count": null,
      "outputs": []
    },
    {
      "cell_type": "code",
      "metadata": {
        "id": "ZJRGCFsRbluA"
      },
      "source": [
        "#Type num_vect >= 6 and note the output"
      ],
      "execution_count": null,
      "outputs": []
    },
    {
      "cell_type": "markdown",
      "metadata": {
        "id": "ykWXOe7kbbCH"
      },
      "source": [
        "Character vectors\n",
        "\n",
        "Character vectors are also very common in R. Double quotes are used to distinguish character objects."
      ]
    },
    {
      "cell_type": "code",
      "metadata": {
        "id": "Y5By5YrKcKLV"
      },
      "source": [
        "# Create a character vector that contains the following words: \"My\", \"name\", \"is\". \n",
        "#Remember to enclose each word in its own set of double quotes, \n",
        "#so that R knows they are character strings. Store the vector in a variable called char_vect.\n"
      ],
      "execution_count": null,
      "outputs": []
    },
    {
      "cell_type": "code",
      "metadata": {
        "id": "fCs9xH65dXqF"
      },
      "source": [
        "# print the char_vect"
      ],
      "execution_count": null,
      "outputs": []
    },
    {
      "cell_type": "code",
      "metadata": {
        "id": "wqFk1eWDdaej"
      },
      "source": [
        "#use paste(char_vect, collapse=\" \")\n"
      ],
      "execution_count": null,
      "outputs": []
    },
    {
      "cell_type": "markdown",
      "metadata": {
        "id": "U6zErBTNdkjS"
      },
      "source": [
        "Explain What difference you see in above two code blocks\n",
        "\n",
        " My explaination\n",
        " ss\n",
        " \n",
        " fsdfsd\n",
        " fsfd\n",
        " fsdf"
      ]
    },
    {
      "cell_type": "code",
      "metadata": {
        "id": "bb8VxwW6eq4I"
      },
      "source": [
        "# add your name as an element to char_vect and paste complete sentence saying \"My name is <your name>\"\n"
      ],
      "execution_count": null,
      "outputs": []
    },
    {
      "cell_type": "code",
      "metadata": {
        "id": "2On4I2KFffCo"
      },
      "source": [
        "#Execute this code block\n",
        "paste(\"Hello\",\"World!\",collapse=\" \")"
      ],
      "execution_count": null,
      "outputs": []
    },
    {
      "cell_type": "markdown",
      "metadata": {
        "id": "Ix0RGNhYfk5M"
      },
      "source": [
        "Explain output of code block above."
      ]
    },
    {
      "cell_type": "code",
      "metadata": {
        "id": "UG8NGPx4fq01"
      },
      "source": [
        "#Execute this \n",
        "paste(1:3, c(\"X\", \"Y\", \"Z\"), sep = \":\")"
      ],
      "execution_count": null,
      "outputs": []
    },
    {
      "cell_type": "markdown",
      "metadata": {
        "id": "WZburobtgHPL"
      },
      "source": [
        "Explain output of above code block"
      ]
    },
    {
      "cell_type": "code",
      "metadata": {
        "id": "dfigEt5CgidD"
      },
      "source": [
        "#Executes this LETTERS is \n",
        "paste(LETTERS, 1:10, sep = \"-\")"
      ],
      "execution_count": null,
      "outputs": []
    },
    {
      "cell_type": "markdown",
      "metadata": {
        "id": "zi6nXmiZp1Li"
      },
      "source": [
        "Explain output of above code block"
      ]
    },
    {
      "cell_type": "markdown",
      "metadata": {
        "id": "oaWD-k-4qNOV"
      },
      "source": [
        "**Write R code to Solve Following**\n",
        "1.   To begin with create a vecor **a** of 20 random values from Std Normal Variable.\n",
        "2.   Creat another vector **b** of 20 NA values. Also create vector x\n",
        "3.   Sample 20 values from above two vectors. \n",
        "4.   Subset  10th to 15th element from x to generate sample y\n",
        "5.   Count NAs in vector x and y         "
      ]
    },
    {
      "cell_type": "code",
      "metadata": {
        "id": "jFPLWLTttQFS",
        "colab": {
          "base_uri": "https://localhost:8080/",
          "height": 69
        },
        "outputId": "7725ec0d-c89b-44df-87d9-71e98379036b"
      },
      "source": [
        "# Create a Vector 'a' of 20 random values from Std Normal Variable.\n",
        "a <- rnorm(20)\n",
        "a"
      ],
      "execution_count": null,
      "outputs": [
        {
          "output_type": "display_data",
          "data": {
            "text/plain": [
              " [1]  0.54806602 -0.24002580  1.59397095 -1.50273566  1.21002570  0.74958340\n",
              " [7] -1.00691922  0.68040440 -0.88903195  1.98675380  0.08293904 -1.17934927\n",
              "[13]  1.84844130 -1.12159034 -1.41411284  0.32503490  0.33402142 -1.61535469\n",
              "[19]  0.85481296 -0.13538408"
            ],
            "text/latex": "\\begin{enumerate*}\n\\item 0.548066019992561\n\\item -0.240025803676587\n\\item 1.59397095350525\n\\item -1.50273565556107\n\\item 1.21002570003534\n\\item 0.749583403941963\n\\item -1.00691922261214\n\\item 0.680404398895077\n\\item -0.88903195374688\n\\item 1.9867537976167\n\\item 0.0829390401627359\n\\item -1.1793492727193\n\\item 1.84844130482269\n\\item -1.12159034299728\n\\item -1.4141128432898\n\\item 0.325034900826478\n\\item 0.33402142267775\n\\item -1.6153546902658\n\\item 0.854812962651988\n\\item -0.135384076688496\n\\end{enumerate*}\n",
            "text/markdown": "1. 0.548066019992561\n2. -0.240025803676587\n3. 1.59397095350525\n4. -1.50273565556107\n5. 1.21002570003534\n6. 0.749583403941963\n7. -1.00691922261214\n8. 0.680404398895077\n9. -0.88903195374688\n10. 1.9867537976167\n11. 0.0829390401627359\n12. -1.1793492727193\n13. 1.84844130482269\n14. -1.12159034299728\n15. -1.4141128432898\n16. 0.325034900826478\n17. 0.33402142267775\n18. -1.6153546902658\n19. 0.854812962651988\n20. -0.135384076688496\n\n\n",
            "text/html": [
              "<style>\n",
              ".list-inline {list-style: none; margin:0; padding: 0}\n",
              ".list-inline>li {display: inline-block}\n",
              ".list-inline>li:not(:last-child)::after {content: \"\\00b7\"; padding: 0 .5ex}\n",
              "</style>\n",
              "<ol class=list-inline><li>0.548066019992561</li><li>-0.240025803676587</li><li>1.59397095350525</li><li>-1.50273565556107</li><li>1.21002570003534</li><li>0.749583403941963</li><li>-1.00691922261214</li><li>0.680404398895077</li><li>-0.88903195374688</li><li>1.9867537976167</li><li>0.0829390401627359</li><li>-1.1793492727193</li><li>1.84844130482269</li><li>-1.12159034299728</li><li>-1.4141128432898</li><li>0.325034900826478</li><li>0.33402142267775</li><li>-1.6153546902658</li><li>0.854812962651988</li><li>-0.135384076688496</li></ol>\n"
            ]
          },
          "metadata": {
            "tags": []
          }
        }
      ]
    },
    {
      "cell_type": "code",
      "metadata": {
        "id": "FVLkub50tPQ0",
        "colab": {
          "base_uri": "https://localhost:8080/",
          "height": 34
        },
        "outputId": "34de0823-3637-44b3-d685-64b936564bda"
      },
      "source": [
        "# Create another vector b of 20 NA values. Also create vector x.\n",
        "b <- rep(NA, 20)\n",
        "b"
      ],
      "execution_count": null,
      "outputs": [
        {
          "output_type": "display_data",
          "data": {
            "text/plain": [
              " [1] NA NA NA NA NA NA NA NA NA NA NA NA NA NA NA NA NA NA NA NA"
            ],
            "text/latex": "\\begin{enumerate*}\n\\item <NA>\n\\item <NA>\n\\item <NA>\n\\item <NA>\n\\item <NA>\n\\item <NA>\n\\item <NA>\n\\item <NA>\n\\item <NA>\n\\item <NA>\n\\item <NA>\n\\item <NA>\n\\item <NA>\n\\item <NA>\n\\item <NA>\n\\item <NA>\n\\item <NA>\n\\item <NA>\n\\item <NA>\n\\item <NA>\n\\end{enumerate*}\n",
            "text/markdown": "1. &lt;NA&gt;\n2. &lt;NA&gt;\n3. &lt;NA&gt;\n4. &lt;NA&gt;\n5. &lt;NA&gt;\n6. &lt;NA&gt;\n7. &lt;NA&gt;\n8. &lt;NA&gt;\n9. &lt;NA&gt;\n10. &lt;NA&gt;\n11. &lt;NA&gt;\n12. &lt;NA&gt;\n13. &lt;NA&gt;\n14. &lt;NA&gt;\n15. &lt;NA&gt;\n16. &lt;NA&gt;\n17. &lt;NA&gt;\n18. &lt;NA&gt;\n19. &lt;NA&gt;\n20. &lt;NA&gt;\n\n\n",
            "text/html": [
              "<style>\n",
              ".list-inline {list-style: none; margin:0; padding: 0}\n",
              ".list-inline>li {display: inline-block}\n",
              ".list-inline>li:not(:last-child)::after {content: \"\\00b7\"; padding: 0 .5ex}\n",
              "</style>\n",
              "<ol class=list-inline><li>&lt;NA&gt;</li><li>&lt;NA&gt;</li><li>&lt;NA&gt;</li><li>&lt;NA&gt;</li><li>&lt;NA&gt;</li><li>&lt;NA&gt;</li><li>&lt;NA&gt;</li><li>&lt;NA&gt;</li><li>&lt;NA&gt;</li><li>&lt;NA&gt;</li><li>&lt;NA&gt;</li><li>&lt;NA&gt;</li><li>&lt;NA&gt;</li><li>&lt;NA&gt;</li><li>&lt;NA&gt;</li><li>&lt;NA&gt;</li><li>&lt;NA&gt;</li><li>&lt;NA&gt;</li><li>&lt;NA&gt;</li><li>&lt;NA&gt;</li></ol>\n"
            ]
          },
          "metadata": {
            "tags": []
          }
        }
      ]
    },
    {
      "cell_type": "code",
      "metadata": {
        "id": "f-ZRGnsdvFGv",
        "colab": {
          "base_uri": "https://localhost:8080/",
          "height": 52
        },
        "outputId": "c49f65c0-c8fc-4ded-e9ca-ae5fd4e192b2"
      },
      "source": [
        "# Sample 20 values from above two vectors. \n",
        "x <- c(a,b)\n",
        "x <- sample(x, 20, replace=FALSE)\n",
        "x"
      ],
      "execution_count": null,
      "outputs": [
        {
          "output_type": "display_data",
          "data": {
            "text/plain": [
              " [1]         NA -0.8890320 -0.1353841 -1.1793493         NA  0.3250349\n",
              " [7]  0.3340214         NA         NA         NA  1.2100257         NA\n",
              "[13]         NA  0.5480660         NA  0.7495834 -1.0069192         NA\n",
              "[19] -1.6153547  1.5939710"
            ],
            "text/latex": "\\begin{enumerate*}\n\\item <NA>\n\\item -0.88903195374688\n\\item -0.135384076688496\n\\item -1.1793492727193\n\\item <NA>\n\\item 0.325034900826478\n\\item 0.33402142267775\n\\item <NA>\n\\item <NA>\n\\item <NA>\n\\item 1.21002570003534\n\\item <NA>\n\\item <NA>\n\\item 0.548066019992561\n\\item <NA>\n\\item 0.749583403941963\n\\item -1.00691922261214\n\\item <NA>\n\\item -1.6153546902658\n\\item 1.59397095350525\n\\end{enumerate*}\n",
            "text/markdown": "1. &lt;NA&gt;\n2. -0.88903195374688\n3. -0.135384076688496\n4. -1.1793492727193\n5. &lt;NA&gt;\n6. 0.325034900826478\n7. 0.33402142267775\n8. &lt;NA&gt;\n9. &lt;NA&gt;\n10. &lt;NA&gt;\n11. 1.21002570003534\n12. &lt;NA&gt;\n13. &lt;NA&gt;\n14. 0.548066019992561\n15. &lt;NA&gt;\n16. 0.749583403941963\n17. -1.00691922261214\n18. &lt;NA&gt;\n19. -1.6153546902658\n20. 1.59397095350525\n\n\n",
            "text/html": [
              "<style>\n",
              ".list-inline {list-style: none; margin:0; padding: 0}\n",
              ".list-inline>li {display: inline-block}\n",
              ".list-inline>li:not(:last-child)::after {content: \"\\00b7\"; padding: 0 .5ex}\n",
              "</style>\n",
              "<ol class=list-inline><li>&lt;NA&gt;</li><li>-0.88903195374688</li><li>-0.135384076688496</li><li>-1.1793492727193</li><li>&lt;NA&gt;</li><li>0.325034900826478</li><li>0.33402142267775</li><li>&lt;NA&gt;</li><li>&lt;NA&gt;</li><li>&lt;NA&gt;</li><li>1.21002570003534</li><li>&lt;NA&gt;</li><li>&lt;NA&gt;</li><li>0.548066019992561</li><li>&lt;NA&gt;</li><li>0.749583403941963</li><li>-1.00691922261214</li><li>&lt;NA&gt;</li><li>-1.6153546902658</li><li>1.59397095350525</li></ol>\n"
            ]
          },
          "metadata": {
            "tags": []
          }
        }
      ]
    },
    {
      "cell_type": "code",
      "metadata": {
        "id": "wt7lpohAyaG7",
        "colab": {
          "base_uri": "https://localhost:8080/",
          "height": 34
        },
        "outputId": "2cc8148a-59d5-40e5-a69a-1c13a8fe6cee"
      },
      "source": [
        "# Subset 10th to 15th element from x to generate sample y.\n",
        "y <- x[10:15]\n",
        "y"
      ],
      "execution_count": null,
      "outputs": [
        {
          "output_type": "display_data",
          "data": {
            "text/plain": [
              "[1]       NA 1.210026       NA       NA 0.548066       NA"
            ],
            "text/latex": "\\begin{enumerate*}\n\\item <NA>\n\\item 1.21002570003534\n\\item <NA>\n\\item <NA>\n\\item 0.548066019992561\n\\item <NA>\n\\end{enumerate*}\n",
            "text/markdown": "1. &lt;NA&gt;\n2. 1.21002570003534\n3. &lt;NA&gt;\n4. &lt;NA&gt;\n5. 0.548066019992561\n6. &lt;NA&gt;\n\n\n",
            "text/html": [
              "<style>\n",
              ".list-inline {list-style: none; margin:0; padding: 0}\n",
              ".list-inline>li {display: inline-block}\n",
              ".list-inline>li:not(:last-child)::after {content: \"\\00b7\"; padding: 0 .5ex}\n",
              "</style>\n",
              "<ol class=list-inline><li>&lt;NA&gt;</li><li>1.21002570003534</li><li>&lt;NA&gt;</li><li>&lt;NA&gt;</li><li>0.548066019992561</li><li>&lt;NA&gt;</li></ol>\n"
            ]
          },
          "metadata": {
            "tags": []
          }
        }
      ]
    },
    {
      "cell_type": "code",
      "metadata": {
        "id": "UK56iTQa0JbZ",
        "colab": {
          "base_uri": "https://localhost:8080/",
          "height": 52
        },
        "outputId": "32343117-ce1b-4f72-a3e3-78b6fe0dda9e"
      },
      "source": [
        "# Count NAs in vector x and y. \n",
        "sum(is.na(x))\n",
        "sum(is.na(y))"
      ],
      "execution_count": null,
      "outputs": [
        {
          "output_type": "display_data",
          "data": {
            "text/plain": [
              "[1] 9"
            ],
            "text/latex": "9",
            "text/markdown": "9",
            "text/html": [
              "9"
            ]
          },
          "metadata": {
            "tags": []
          }
        },
        {
          "output_type": "display_data",
          "data": {
            "text/plain": [
              "[1] 4"
            ],
            "text/latex": "4",
            "text/markdown": "4",
            "text/html": [
              "4"
            ]
          },
          "metadata": {
            "tags": []
          }
        }
      ]
    },
    {
      "cell_type": "code",
      "metadata": {
        "id": "bddWV0ti1MlO"
      },
      "source": [
        ""
      ],
      "execution_count": null,
      "outputs": []
    }
  ]
}